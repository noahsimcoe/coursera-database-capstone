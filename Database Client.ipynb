{
 "cells": [
  {
   "cell_type": "code",
   "execution_count": 1,
   "id": "f99ae3a9",
   "metadata": {},
   "outputs": [
    {
     "name": "stdout",
     "output_type": "stream",
     "text": [
      "Requirement already satisfied: mysql-connector-python in /Library/Frameworks/Python.framework/Versions/3.11/lib/python3.11/site-packages (8.0.32)\n",
      "Requirement already satisfied: protobuf<=3.20.3,>=3.11.0 in /Library/Frameworks/Python.framework/Versions/3.11/lib/python3.11/site-packages (from mysql-connector-python) (3.20.3)\n",
      "Note: you may need to restart the kernel to use updated packages.\n"
     ]
    }
   ],
   "source": [
    "pip install mysql-connector-python"
   ]
  },
  {
   "cell_type": "code",
   "execution_count": 11,
   "id": "1d1e5210",
   "metadata": {},
   "outputs": [],
   "source": [
    "import mysql.connector as connector"
   ]
  },
  {
   "cell_type": "code",
   "execution_count": 13,
   "id": "67d38830",
   "metadata": {},
   "outputs": [],
   "source": [
    "connection = connector.connect(user=\"admin1\", password=\"123456789AbC\", db=\"LittleLemonDB\")"
   ]
  },
  {
   "cell_type": "code",
   "execution_count": 14,
   "id": "9af2784e",
   "metadata": {},
   "outputs": [],
   "source": [
    "cursor = connection.cursor(buffered=True)"
   ]
  },
  {
   "cell_type": "code",
   "execution_count": 18,
   "id": "2b68c0a0",
   "metadata": {},
   "outputs": [],
   "source": [
    "show_tables_query = \"SHOW tables\""
   ]
  },
  {
   "cell_type": "code",
   "execution_count": 19,
   "id": "2cb6f76a",
   "metadata": {},
   "outputs": [],
   "source": [
    "cursor.execute(show_tables_query)"
   ]
  },
  {
   "cell_type": "code",
   "execution_count": 20,
   "id": "eb4c3c86",
   "metadata": {},
   "outputs": [],
   "source": [
    "results = cursor.fetchall()"
   ]
  },
  {
   "cell_type": "code",
   "execution_count": 21,
   "id": "c4ed4fb1",
   "metadata": {},
   "outputs": [
    {
     "name": "stdout",
     "output_type": "stream",
     "text": [
      "[('Bookings',), ('Customer_Details',), ('Menu',), ('MenuItems',), ('Order_Delivery_Status',), ('Orders',), ('ordersview',), ('Staff_Information',)]\n"
     ]
    }
   ],
   "source": [
    "print (results)"
   ]
  },
  {
   "cell_type": "code",
   "execution_count": 22,
   "id": "af3ecf69",
   "metadata": {},
   "outputs": [],
   "source": [
    "cost_query = \"\"\"SELECT Customer_Details.CustomerName, Customer_Details.CustomerPhone, Orders.TotalCost\n",
    "FROM Customer_Details INNER JOIN Orders \n",
    "ON Customer_Details.CustomerID = Orders.CustomerID \n",
    "WHERE TotalCost > 60\"\"\""
   ]
  },
  {
   "cell_type": "code",
   "execution_count": 23,
   "id": "8fd2a0fa",
   "metadata": {},
   "outputs": [],
   "source": [
    "cursor.execute(cost_query)"
   ]
  },
  {
   "cell_type": "code",
   "execution_count": 24,
   "id": "cfb41218",
   "metadata": {},
   "outputs": [],
   "source": [
    "results = cursor.fetchall()"
   ]
  },
  {
   "cell_type": "code",
   "execution_count": 25,
   "id": "c49412bd",
   "metadata": {},
   "outputs": [
    {
     "name": "stdout",
     "output_type": "stream",
     "text": [
      "[]\n"
     ]
    }
   ],
   "source": [
    "print(results)"
   ]
  },
  {
   "cell_type": "code",
   "execution_count": null,
   "id": "d2ab6fb1",
   "metadata": {},
   "outputs": [],
   "source": []
  }
 ],
 "metadata": {
  "kernelspec": {
   "display_name": "Python 3 (ipykernel)",
   "language": "python",
   "name": "python3"
  },
  "language_info": {
   "codemirror_mode": {
    "name": "ipython",
    "version": 3
   },
   "file_extension": ".py",
   "mimetype": "text/x-python",
   "name": "python",
   "nbconvert_exporter": "python",
   "pygments_lexer": "ipython3",
   "version": "3.11.1"
  }
 },
 "nbformat": 4,
 "nbformat_minor": 5
}
